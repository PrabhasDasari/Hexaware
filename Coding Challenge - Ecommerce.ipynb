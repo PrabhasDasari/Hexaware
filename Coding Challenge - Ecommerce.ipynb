{
    "metadata": {
        "kernelspec": {
            "name": "SQL",
            "display_name": "SQL",
            "language": "sql"
        },
        "language_info": {
            "name": "sql",
            "version": ""
        }
    },
    "nbformat_minor": 2,
    "nbformat": 4,
    "cells": [
        {
            "cell_type": "markdown",
            "source": [
                "**Creating Tables and Inserting data**"
            ],
            "metadata": {
                "azdata_cell_guid": "83222365-a757-4473-99be-498dad869904"
            },
            "attachments": {}
        },
        {
            "cell_type": "code",
            "source": [
                "CREATE DATABASE Ecom_CC;\r\n",
                "\r\n",
                "USE Ecom_CC;\r\n",
                "\r\n",
                "CREATE TABLE Customer (\r\n",
                "    customerID INT PRIMARY KEY,\r\n",
                "    firstName VARCHAR(50),\r\n",
                "    lastName VARCHAR(50),\r\n",
                "    Email VARCHAR(100),\r\n",
                "    address VARCHAR(255)\r\n",
                ");\r\n",
                "\r\n",
                "CREATE TABLE Product (\r\n",
                "    productID INT PRIMARY KEY,\r\n",
                "    name VARCHAR(100),\r\n",
                "    Description VARCHAR(255),\r\n",
                "    price DECIMAL(10, 2),\r\n",
                "    stockQuantity INT\r\n",
                ");\r\n",
                "\r\n",
                "CREATE TABLE Cart (\r\n",
                "    cartID INT PRIMARY KEY,\r\n",
                "    customerID INT,\r\n",
                "    productID INT,\r\n",
                "    quantity INT,\r\n",
                "    FOREIGN KEY (customerID) REFERENCES Customer(customerID),\r\n",
                "    FOREIGN KEY (productID) REFERENCES Product(productID)\r\n",
                ");\r\n",
                "\r\n",
                "CREATE TABLE [Order] (\r\n",
                "    orderID INT PRIMARY KEY,\r\n",
                "    customerID INT,\r\n",
                "    orderDate DATE,\r\n",
                "    totalAmount DECIMAL(10, 2),\r\n",
                "    FOREIGN KEY (customerID) REFERENCES Customer(customerID)\r\n",
                ");\r\n",
                "\r\n",
                "CREATE TABLE OrderItem (\r\n",
                "    orderItemID INT PRIMARY KEY,\r\n",
                "    orderID INT,\r\n",
                "    productID INT,\r\n",
                "    quantity INT,\r\n",
                "    itemAmount DECIMAL(10, 2),\r\n",
                "    FOREIGN KEY (orderID) REFERENCES [Order](orderID),\r\n",
                "    FOREIGN KEY (productID) REFERENCES Product(productID)\r\n",
                ");\r\n",
                "\r\n",
                "INSERT INTO Product (productID, name, Description, price, stockQuantity)\r\n",
                "VALUES \r\n",
                "(1, 'Laptop', 'High-performance laptop', 800.00, 10),\r\n",
                "(2, 'Smartphone', 'Latest smartphone', 600.00, 15),\r\n",
                "(3, 'Tablet', 'Portable tablet', 300.00, 20),\r\n",
                "(4, 'Headphones', 'Noise-canceling', 150.00, 30),\r\n",
                "(5, 'TV', '4K Smart TV', 900.00, 5),\r\n",
                "(6, 'Coffee Maker', 'Automatic coffee maker', 50.00, 25),\r\n",
                "(7, 'Refrigerator', 'Energy-efficient', 700.00, 10),\r\n",
                "(8, 'Microwave Oven', 'Countertop microwave', 80.00, 15),\r\n",
                "(9, 'Blender', 'High-speed blender', 70.00, 20),\r\n",
                "(10, 'Vacuum Cleaner', 'Bagless vacuum cleaner', 120.00, 10);\r\n",
                "\r\n",
                "INSERT INTO Customer (customerID, firstName, lastName, Email, address)\r\n",
                "VALUES \r\n",
                "(1, 'John', 'Doe', 'johndoe@example.com', '123 Main St, City'),\r\n",
                "(2, 'Jane', 'Smith', 'janesmith@example.com', '456 Elm St, Town'),\r\n",
                "(3, 'Robert', 'Johnson', 'robert@example.com', '789 Oak St, Village'),\r\n",
                "(4, 'Sarah', 'Brown', 'sarah@example.com', '101 Pine St, Suburb'),\r\n",
                "(5, 'David', 'Lee', 'david@example.com', '234 Cedar St, District'),\r\n",
                "(6, 'Laura', 'Hall', 'laura@example.com', '567 Birch St, County'),\r\n",
                "(7, 'Michael', 'Davis', 'michael@example.com', '890 Maple St, State'),\r\n",
                "(8, 'Emma', 'Wilson', 'emma@example.com', '321 Redwood St, Country'),\r\n",
                "(9, 'William', 'Taylor', 'william@example.com', '432 Spruce St, Province'),\r\n",
                "(10, 'Olivia', 'Adams', 'olivia@example.com', '765 Fir St, Territory');\r\n",
                "\r\n",
                "INSERT INTO [Order] (orderID, customerID, orderDate, totalAmount)\r\n",
                "VALUES \r\n",
                "(1, 1, '2023-01-05', 1200.00),\r\n",
                "(2, 2, '2023-02-10', 900.00),\r\n",
                "(3, 3, '2023-03-15', 300.00),\r\n",
                "(4, 4, '2023-04-20', 150.00),\r\n",
                "(5, 5, '2023-05-25', 1800.00),\r\n",
                "(6, 6, '2023-06-30', 400.00),\r\n",
                "(7, 7, '2023-07-05', 700.00),\r\n",
                "(8, 8, '2023-08-10', 160.00),\r\n",
                "(9, 9, '2023-09-15', 140.00),\r\n",
                "(10, 10, '2023-10-20', 1400.00);\r\n",
                "\r\n",
                "INSERT INTO OrderItem (orderItemID, orderID, productID, quantity, itemAmount)\r\n",
                "VALUES \r\n",
                "(1, 1, 1, 2, 1600.00),\r\n",
                "(2, 1, 3, 1, 300.00),\r\n",
                "(3, 2, 2, 3, 1800.00),\r\n",
                "(4, 3, 5, 2, 1800.00),\r\n",
                "(5, 4, 4, 4, 600.00),\r\n",
                "(6, 4, 6, 1, 50.00),\r\n",
                "(7, 5, 1, 1, 800.00),\r\n",
                "(8, 5, 2, 2, 1200.00),\r\n",
                "(9, 6, 10, 2, 240.00),\r\n",
                "(10, 6, 9, 3, 210.00);\r\n",
                "\r\n",
                "INSERT INTO Cart (cartID, customerID, productID, quantity)\r\n",
                "VALUES \r\n",
                "(1, 1, 1, 2),\r\n",
                "(2, 1, 3, 1),\r\n",
                "(3, 2, 2, 3),\r\n",
                "(4, 3, 4, 4),\r\n",
                "(5, 3, 5, 2),\r\n",
                "(6, 4, 6, 1),\r\n",
                "(7, 5, 1, 1),\r\n",
                "(8, 6, 10, 2),\r\n",
                "(9, 6, 9, 3),\r\n",
                "(10, 7, 7, 2);\r\n",
                ""
            ],
            "metadata": {
                "azdata_cell_guid": "aaf12658-b498-483f-96f8-d5c4604cb608",
                "language": "sql",
                "tags": []
            },
            "outputs": [
                {
                    "output_type": "display_data",
                    "data": {
                        "text/html": "(10 rows affected)"
                    },
                    "metadata": {}
                },
                {
                    "output_type": "display_data",
                    "data": {
                        "text/html": "(10 rows affected)"
                    },
                    "metadata": {}
                },
                {
                    "output_type": "display_data",
                    "data": {
                        "text/html": "(10 rows affected)"
                    },
                    "metadata": {}
                },
                {
                    "output_type": "display_data",
                    "data": {
                        "text/html": "(10 rows affected)"
                    },
                    "metadata": {}
                },
                {
                    "output_type": "display_data",
                    "data": {
                        "text/html": "(10 rows affected)"
                    },
                    "metadata": {}
                },
                {
                    "output_type": "display_data",
                    "data": {
                        "text/html": "Total execution time: 00:00:00.051"
                    },
                    "metadata": {}
                }
            ],
            "execution_count": 4
        },
        {
            "cell_type": "markdown",
            "source": [
                "**1\\. Update refrigerator product price to 800.**"
            ],
            "metadata": {
                "azdata_cell_guid": "dd988099-de95-46bb-af82-87a6bf4c4b73"
            },
            "attachments": {}
        },
        {
            "cell_type": "code",
            "source": [
                "UPDATE Product\r\n",
                "SET price = 800.00\r\n",
                "WHERE name = 'Refrigerator';"
            ],
            "metadata": {
                "azdata_cell_guid": "a31d4b27-d7ce-4c28-8eb4-d434b4b290ee",
                "language": "sql"
            },
            "outputs": [
                {
                    "output_type": "display_data",
                    "data": {
                        "text/html": "(1 row affected)"
                    },
                    "metadata": {}
                },
                {
                    "output_type": "display_data",
                    "data": {
                        "text/html": "Total execution time: 00:00:00.008"
                    },
                    "metadata": {}
                }
            ],
            "execution_count": 5
        },
        {
            "cell_type": "markdown",
            "source": [
                "**2\\. Remove all cart items for a specific customer.**"
            ],
            "metadata": {
                "language": "sql",
                "azdata_cell_guid": "6329ddfc-966e-4b87-bd22-18d3632ff249"
            },
            "attachments": {}
        },
        {
            "cell_type": "code",
            "source": [
                "DELETE FROM Cart\r\n",
                "WHERE customerID = 1;"
            ],
            "metadata": {
                "language": "sql",
                "azdata_cell_guid": "fe41b15d-e6e9-4ebc-844c-4e17806ddb9f"
            },
            "outputs": [
                {
                    "output_type": "display_data",
                    "data": {
                        "text/html": "(2 rows affected)"
                    },
                    "metadata": {}
                },
                {
                    "output_type": "display_data",
                    "data": {
                        "text/html": "Total execution time: 00:00:00.011"
                    },
                    "metadata": {}
                }
            ],
            "execution_count": 6
        },
        {
            "cell_type": "markdown",
            "source": [
                "**3\\. Retrieve Products Priced Below $100.**"
            ],
            "metadata": {
                "language": "sql",
                "azdata_cell_guid": "dec5d34a-beea-4b06-a5be-939fff14498e"
            },
            "attachments": {}
        },
        {
            "cell_type": "code",
            "source": [
                "SELECT *\r\n",
                "FROM Product\r\n",
                "WHERE price < 100.00;"
            ],
            "metadata": {
                "language": "sql",
                "azdata_cell_guid": "290780ba-4976-49e1-8a02-8c882b705ef1"
            },
            "outputs": [
                {
                    "output_type": "display_data",
                    "data": {
                        "text/html": "(3 rows affected)"
                    },
                    "metadata": {}
                },
                {
                    "output_type": "display_data",
                    "data": {
                        "text/html": "Total execution time: 00:00:00.060"
                    },
                    "metadata": {}
                },
                {
                    "output_type": "execute_result",
                    "metadata": {},
                    "execution_count": 7,
                    "data": {
                        "application/vnd.dataresource+json": {
                            "schema": {
                                "fields": [
                                    {
                                        "name": "productID"
                                    },
                                    {
                                        "name": "name"
                                    },
                                    {
                                        "name": "Description"
                                    },
                                    {
                                        "name": "price"
                                    },
                                    {
                                        "name": "stockQuantity"
                                    }
                                ]
                            },
                            "data": [
                                {
                                    "productID": "6",
                                    "name": "Coffee Maker",
                                    "Description": "Automatic coffee maker",
                                    "price": "50.00",
                                    "stockQuantity": "25"
                                },
                                {
                                    "productID": "8",
                                    "name": "Microwave Oven",
                                    "Description": "Countertop microwave",
                                    "price": "80.00",
                                    "stockQuantity": "15"
                                },
                                {
                                    "productID": "9",
                                    "name": "Blender",
                                    "Description": "High-speed blender",
                                    "price": "70.00",
                                    "stockQuantity": "20"
                                }
                            ]
                        },
                        "text/html": [
                            "<table>",
                            "<tr><th>productID</th><th>name</th><th>Description</th><th>price</th><th>stockQuantity</th></tr>",
                            "<tr><td>6</td><td>Coffee Maker</td><td>Automatic coffee maker</td><td>50.00</td><td>25</td></tr>",
                            "<tr><td>8</td><td>Microwave Oven</td><td>Countertop microwave</td><td>80.00</td><td>15</td></tr>",
                            "<tr><td>9</td><td>Blender</td><td>High-speed blender</td><td>70.00</td><td>20</td></tr>",
                            "</table>"
                        ]
                    }
                }
            ],
            "execution_count": 7
        },
        {
            "cell_type": "markdown",
            "source": [
                "**4\\. Find Products with Stock Quantity Greater Than 5.**"
            ],
            "metadata": {
                "language": "sql",
                "azdata_cell_guid": "e269dd40-6647-4653-b7fe-719bed5e3489"
            },
            "attachments": {}
        },
        {
            "cell_type": "code",
            "source": [
                "SELECT *\r\n",
                "FROM Product\r\n",
                "WHERE stockQuantity > 5;"
            ],
            "metadata": {
                "language": "sql",
                "azdata_cell_guid": "a25bdfac-1790-4347-b46f-009d1866f13a"
            },
            "outputs": [
                {
                    "output_type": "display_data",
                    "data": {
                        "text/html": "(9 rows affected)"
                    },
                    "metadata": {}
                },
                {
                    "output_type": "display_data",
                    "data": {
                        "text/html": "Total execution time: 00:00:00.015"
                    },
                    "metadata": {}
                },
                {
                    "output_type": "execute_result",
                    "metadata": {},
                    "execution_count": 8,
                    "data": {
                        "application/vnd.dataresource+json": {
                            "schema": {
                                "fields": [
                                    {
                                        "name": "productID"
                                    },
                                    {
                                        "name": "name"
                                    },
                                    {
                                        "name": "Description"
                                    },
                                    {
                                        "name": "price"
                                    },
                                    {
                                        "name": "stockQuantity"
                                    }
                                ]
                            },
                            "data": [
                                {
                                    "productID": "1",
                                    "name": "Laptop",
                                    "Description": "High-performance laptop",
                                    "price": "800.00",
                                    "stockQuantity": "10"
                                },
                                {
                                    "productID": "2",
                                    "name": "Smartphone",
                                    "Description": "Latest smartphone",
                                    "price": "600.00",
                                    "stockQuantity": "15"
                                },
                                {
                                    "productID": "3",
                                    "name": "Tablet",
                                    "Description": "Portable tablet",
                                    "price": "300.00",
                                    "stockQuantity": "20"
                                },
                                {
                                    "productID": "4",
                                    "name": "Headphones",
                                    "Description": "Noise-canceling",
                                    "price": "150.00",
                                    "stockQuantity": "30"
                                },
                                {
                                    "productID": "6",
                                    "name": "Coffee Maker",
                                    "Description": "Automatic coffee maker",
                                    "price": "50.00",
                                    "stockQuantity": "25"
                                },
                                {
                                    "productID": "7",
                                    "name": "Refrigerator",
                                    "Description": "Energy-efficient",
                                    "price": "800.00",
                                    "stockQuantity": "10"
                                },
                                {
                                    "productID": "8",
                                    "name": "Microwave Oven",
                                    "Description": "Countertop microwave",
                                    "price": "80.00",
                                    "stockQuantity": "15"
                                },
                                {
                                    "productID": "9",
                                    "name": "Blender",
                                    "Description": "High-speed blender",
                                    "price": "70.00",
                                    "stockQuantity": "20"
                                },
                                {
                                    "productID": "10",
                                    "name": "Vacuum Cleaner",
                                    "Description": "Bagless vacuum cleaner",
                                    "price": "120.00",
                                    "stockQuantity": "10"
                                }
                            ]
                        },
                        "text/html": [
                            "<table>",
                            "<tr><th>productID</th><th>name</th><th>Description</th><th>price</th><th>stockQuantity</th></tr>",
                            "<tr><td>1</td><td>Laptop</td><td>High-performance laptop</td><td>800.00</td><td>10</td></tr>",
                            "<tr><td>2</td><td>Smartphone</td><td>Latest smartphone</td><td>600.00</td><td>15</td></tr>",
                            "<tr><td>3</td><td>Tablet</td><td>Portable tablet</td><td>300.00</td><td>20</td></tr>",
                            "<tr><td>4</td><td>Headphones</td><td>Noise-canceling</td><td>150.00</td><td>30</td></tr>",
                            "<tr><td>6</td><td>Coffee Maker</td><td>Automatic coffee maker</td><td>50.00</td><td>25</td></tr>",
                            "<tr><td>7</td><td>Refrigerator</td><td>Energy-efficient</td><td>800.00</td><td>10</td></tr>",
                            "<tr><td>8</td><td>Microwave Oven</td><td>Countertop microwave</td><td>80.00</td><td>15</td></tr>",
                            "<tr><td>9</td><td>Blender</td><td>High-speed blender</td><td>70.00</td><td>20</td></tr>",
                            "<tr><td>10</td><td>Vacuum Cleaner</td><td>Bagless vacuum cleaner</td><td>120.00</td><td>10</td></tr>",
                            "</table>"
                        ]
                    }
                }
            ],
            "execution_count": 8
        },
        {
            "cell_type": "markdown",
            "source": [
                "**5\\. Retrieve Orders with Total Amount Between $500 and $1000.**"
            ],
            "metadata": {
                "language": "sql",
                "azdata_cell_guid": "1866538f-8013-46f7-86e7-a75b2774dbda"
            },
            "attachments": {}
        },
        {
            "cell_type": "code",
            "source": [
                "SELECT *\r\n",
                "FROM [Order]\r\n",
                "WHERE totalAmount BETWEEN 500.00 AND 1000.00;"
            ],
            "metadata": {
                "language": "sql",
                "azdata_cell_guid": "0725cfaf-104d-4c46-a65e-f48aa8bfeefa"
            },
            "outputs": [
                {
                    "output_type": "display_data",
                    "data": {
                        "text/html": "(2 rows affected)"
                    },
                    "metadata": {}
                },
                {
                    "output_type": "display_data",
                    "data": {
                        "text/html": "Total execution time: 00:00:00.016"
                    },
                    "metadata": {}
                },
                {
                    "output_type": "execute_result",
                    "metadata": {},
                    "execution_count": 9,
                    "data": {
                        "application/vnd.dataresource+json": {
                            "schema": {
                                "fields": [
                                    {
                                        "name": "orderID"
                                    },
                                    {
                                        "name": "customerID"
                                    },
                                    {
                                        "name": "orderDate"
                                    },
                                    {
                                        "name": "totalAmount"
                                    }
                                ]
                            },
                            "data": [
                                {
                                    "orderID": "2",
                                    "customerID": "2",
                                    "orderDate": "2023-02-10",
                                    "totalAmount": "900.00"
                                },
                                {
                                    "orderID": "7",
                                    "customerID": "7",
                                    "orderDate": "2023-07-05",
                                    "totalAmount": "700.00"
                                }
                            ]
                        },
                        "text/html": [
                            "<table>",
                            "<tr><th>orderID</th><th>customerID</th><th>orderDate</th><th>totalAmount</th></tr>",
                            "<tr><td>2</td><td>2</td><td>2023-02-10</td><td>900.00</td></tr>",
                            "<tr><td>7</td><td>7</td><td>2023-07-05</td><td>700.00</td></tr>",
                            "</table>"
                        ]
                    }
                }
            ],
            "execution_count": 9
        },
        {
            "cell_type": "markdown",
            "source": [
                "**6\\. Find Products which name end with letter ‘r’.**"
            ],
            "metadata": {
                "language": "sql",
                "azdata_cell_guid": "c605a4f0-4540-4026-9a00-8f5d0b3787fd"
            },
            "attachments": {}
        },
        {
            "cell_type": "code",
            "source": [
                "SELECT *\r\n",
                "FROM Product\r\n",
                "WHERE name LIKE '%r';"
            ],
            "metadata": {
                "language": "sql",
                "azdata_cell_guid": "41953b19-db09-4418-bf56-1b663392e140"
            },
            "outputs": [
                {
                    "output_type": "display_data",
                    "data": {
                        "text/html": "(4 rows affected)"
                    },
                    "metadata": {}
                },
                {
                    "output_type": "display_data",
                    "data": {
                        "text/html": "Total execution time: 00:00:00.007"
                    },
                    "metadata": {}
                },
                {
                    "output_type": "execute_result",
                    "metadata": {},
                    "execution_count": 12,
                    "data": {
                        "application/vnd.dataresource+json": {
                            "schema": {
                                "fields": [
                                    {
                                        "name": "productID"
                                    },
                                    {
                                        "name": "name"
                                    },
                                    {
                                        "name": "Description"
                                    },
                                    {
                                        "name": "price"
                                    },
                                    {
                                        "name": "stockQuantity"
                                    }
                                ]
                            },
                            "data": [
                                {
                                    "productID": "6",
                                    "name": "Coffee Maker",
                                    "Description": "Automatic coffee maker",
                                    "price": "50.00",
                                    "stockQuantity": "25"
                                },
                                {
                                    "productID": "7",
                                    "name": "Refrigerator",
                                    "Description": "Energy-efficient",
                                    "price": "800.00",
                                    "stockQuantity": "10"
                                },
                                {
                                    "productID": "9",
                                    "name": "Blender",
                                    "Description": "High-speed blender",
                                    "price": "70.00",
                                    "stockQuantity": "20"
                                },
                                {
                                    "productID": "10",
                                    "name": "Vacuum Cleaner",
                                    "Description": "Bagless vacuum cleaner",
                                    "price": "120.00",
                                    "stockQuantity": "10"
                                }
                            ]
                        },
                        "text/html": [
                            "<table>",
                            "<tr><th>productID</th><th>name</th><th>Description</th><th>price</th><th>stockQuantity</th></tr>",
                            "<tr><td>6</td><td>Coffee Maker</td><td>Automatic coffee maker</td><td>50.00</td><td>25</td></tr>",
                            "<tr><td>7</td><td>Refrigerator</td><td>Energy-efficient</td><td>800.00</td><td>10</td></tr>",
                            "<tr><td>9</td><td>Blender</td><td>High-speed blender</td><td>70.00</td><td>20</td></tr>",
                            "<tr><td>10</td><td>Vacuum Cleaner</td><td>Bagless vacuum cleaner</td><td>120.00</td><td>10</td></tr>",
                            "</table>"
                        ]
                    }
                }
            ],
            "execution_count": 12
        },
        {
            "cell_type": "markdown",
            "source": [
                "**7\\. Retrieve Cart Items for Customer 5.**"
            ],
            "metadata": {
                "language": "sql",
                "azdata_cell_guid": "974c4f31-36c6-40b6-bf35-d28e3132f4f4"
            },
            "attachments": {}
        },
        {
            "cell_type": "code",
            "source": [
                "SELECT *\r\n",
                "FROM Cart\r\n",
                "WHERE customerID = 5;"
            ],
            "metadata": {
                "language": "sql",
                "azdata_cell_guid": "64d4f9dc-ecd2-454b-93fe-e7eef7940953"
            },
            "outputs": [
                {
                    "output_type": "display_data",
                    "data": {
                        "text/html": "(1 row affected)"
                    },
                    "metadata": {}
                },
                {
                    "output_type": "display_data",
                    "data": {
                        "text/html": "Total execution time: 00:00:00.006"
                    },
                    "metadata": {}
                },
                {
                    "output_type": "execute_result",
                    "metadata": {},
                    "execution_count": 13,
                    "data": {
                        "application/vnd.dataresource+json": {
                            "schema": {
                                "fields": [
                                    {
                                        "name": "cartID"
                                    },
                                    {
                                        "name": "customerID"
                                    },
                                    {
                                        "name": "productID"
                                    },
                                    {
                                        "name": "quantity"
                                    }
                                ]
                            },
                            "data": [
                                {
                                    "cartID": "7",
                                    "customerID": "5",
                                    "productID": "1",
                                    "quantity": "1"
                                }
                            ]
                        },
                        "text/html": [
                            "<table>",
                            "<tr><th>cartID</th><th>customerID</th><th>productID</th><th>quantity</th></tr>",
                            "<tr><td>7</td><td>5</td><td>1</td><td>1</td></tr>",
                            "</table>"
                        ]
                    }
                }
            ],
            "execution_count": 13
        },
        {
            "cell_type": "markdown",
            "source": [
                "**8\\. Find Customers Who Placed Orders in 2023.**"
            ],
            "metadata": {
                "language": "sql",
                "azdata_cell_guid": "3d8da3cc-b2d3-497a-b3b0-bee39aee5ed2"
            },
            "attachments": {}
        },
        {
            "cell_type": "code",
            "source": [
                "SELECT DISTINCT C.*\r\n",
                "FROM Customer C\r\n",
                "JOIN [Order] O ON C.customerID = O.customerID\r\n",
                "WHERE YEAR(O.orderDate) = 2023;"
            ],
            "metadata": {
                "language": "sql",
                "azdata_cell_guid": "ddc52f30-82e6-4bcc-ae08-f1d487fcd2f7"
            },
            "outputs": [
                {
                    "output_type": "display_data",
                    "data": {
                        "text/html": "(10 rows affected)"
                    },
                    "metadata": {}
                },
                {
                    "output_type": "display_data",
                    "data": {
                        "text/html": "Total execution time: 00:00:00.021"
                    },
                    "metadata": {}
                },
                {
                    "output_type": "execute_result",
                    "metadata": {},
                    "execution_count": 14,
                    "data": {
                        "application/vnd.dataresource+json": {
                            "schema": {
                                "fields": [
                                    {
                                        "name": "customerID"
                                    },
                                    {
                                        "name": "firstName"
                                    },
                                    {
                                        "name": "lastName"
                                    },
                                    {
                                        "name": "Email"
                                    },
                                    {
                                        "name": "address"
                                    }
                                ]
                            },
                            "data": [
                                {
                                    "customerID": "1",
                                    "firstName": "John",
                                    "lastName": "Doe",
                                    "Email": "johndoe@example.com",
                                    "address": "123 Main St, City"
                                },
                                {
                                    "customerID": "2",
                                    "firstName": "Jane",
                                    "lastName": "Smith",
                                    "Email": "janesmith@example.com",
                                    "address": "456 Elm St, Town"
                                },
                                {
                                    "customerID": "3",
                                    "firstName": "Robert",
                                    "lastName": "Johnson",
                                    "Email": "robert@example.com",
                                    "address": "789 Oak St, Village"
                                },
                                {
                                    "customerID": "4",
                                    "firstName": "Sarah",
                                    "lastName": "Brown",
                                    "Email": "sarah@example.com",
                                    "address": "101 Pine St, Suburb"
                                },
                                {
                                    "customerID": "5",
                                    "firstName": "David",
                                    "lastName": "Lee",
                                    "Email": "david@example.com",
                                    "address": "234 Cedar St, District"
                                },
                                {
                                    "customerID": "6",
                                    "firstName": "Laura",
                                    "lastName": "Hall",
                                    "Email": "laura@example.com",
                                    "address": "567 Birch St, County"
                                },
                                {
                                    "customerID": "7",
                                    "firstName": "Michael",
                                    "lastName": "Davis",
                                    "Email": "michael@example.com",
                                    "address": "890 Maple St, State"
                                },
                                {
                                    "customerID": "8",
                                    "firstName": "Emma",
                                    "lastName": "Wilson",
                                    "Email": "emma@example.com",
                                    "address": "321 Redwood St, Country"
                                },
                                {
                                    "customerID": "9",
                                    "firstName": "William",
                                    "lastName": "Taylor",
                                    "Email": "william@example.com",
                                    "address": "432 Spruce St, Province"
                                },
                                {
                                    "customerID": "10",
                                    "firstName": "Olivia",
                                    "lastName": "Adams",
                                    "Email": "olivia@example.com",
                                    "address": "765 Fir St, Territory"
                                }
                            ]
                        },
                        "text/html": [
                            "<table>",
                            "<tr><th>customerID</th><th>firstName</th><th>lastName</th><th>Email</th><th>address</th></tr>",
                            "<tr><td>1</td><td>John</td><td>Doe</td><td>johndoe@example.com</td><td>123 Main St, City</td></tr>",
                            "<tr><td>2</td><td>Jane</td><td>Smith</td><td>janesmith@example.com</td><td>456 Elm St, Town</td></tr>",
                            "<tr><td>3</td><td>Robert</td><td>Johnson</td><td>robert@example.com</td><td>789 Oak St, Village</td></tr>",
                            "<tr><td>4</td><td>Sarah</td><td>Brown</td><td>sarah@example.com</td><td>101 Pine St, Suburb</td></tr>",
                            "<tr><td>5</td><td>David</td><td>Lee</td><td>david@example.com</td><td>234 Cedar St, District</td></tr>",
                            "<tr><td>6</td><td>Laura</td><td>Hall</td><td>laura@example.com</td><td>567 Birch St, County</td></tr>",
                            "<tr><td>7</td><td>Michael</td><td>Davis</td><td>michael@example.com</td><td>890 Maple St, State</td></tr>",
                            "<tr><td>8</td><td>Emma</td><td>Wilson</td><td>emma@example.com</td><td>321 Redwood St, Country</td></tr>",
                            "<tr><td>9</td><td>William</td><td>Taylor</td><td>william@example.com</td><td>432 Spruce St, Province</td></tr>",
                            "<tr><td>10</td><td>Olivia</td><td>Adams</td><td>olivia@example.com</td><td>765 Fir St, Territory</td></tr>",
                            "</table>"
                        ]
                    }
                }
            ],
            "execution_count": 14
        },
        {
            "cell_type": "markdown",
            "source": [
                "**9\\. Determine the Minimum Stock Quantity for Each Product Category.**"
            ],
            "metadata": {
                "language": "sql",
                "azdata_cell_guid": "2eb1fec9-3615-4ec5-9509-a061a82a45f3"
            },
            "attachments": {}
        },
        {
            "cell_type": "code",
            "source": [
                "SELECT productID, MIN(stockQuantity) AS minStockQuantity\r\n",
                "FROM Product\r\n",
                "GROUP BY productID;"
            ],
            "metadata": {
                "language": "sql",
                "azdata_cell_guid": "eb70bcf4-b906-4580-aa2f-3da0c9db0b94"
            },
            "outputs": [
                {
                    "output_type": "display_data",
                    "data": {
                        "text/html": "(10 rows affected)"
                    },
                    "metadata": {}
                },
                {
                    "output_type": "display_data",
                    "data": {
                        "text/html": "Total execution time: 00:00:00.012"
                    },
                    "metadata": {}
                },
                {
                    "output_type": "execute_result",
                    "metadata": {},
                    "execution_count": 15,
                    "data": {
                        "application/vnd.dataresource+json": {
                            "schema": {
                                "fields": [
                                    {
                                        "name": "productID"
                                    },
                                    {
                                        "name": "minStockQuantity"
                                    }
                                ]
                            },
                            "data": [
                                {
                                    "productID": "1",
                                    "minStockQuantity": "10"
                                },
                                {
                                    "productID": "2",
                                    "minStockQuantity": "15"
                                },
                                {
                                    "productID": "3",
                                    "minStockQuantity": "20"
                                },
                                {
                                    "productID": "4",
                                    "minStockQuantity": "30"
                                },
                                {
                                    "productID": "5",
                                    "minStockQuantity": "5"
                                },
                                {
                                    "productID": "6",
                                    "minStockQuantity": "25"
                                },
                                {
                                    "productID": "7",
                                    "minStockQuantity": "10"
                                },
                                {
                                    "productID": "8",
                                    "minStockQuantity": "15"
                                },
                                {
                                    "productID": "9",
                                    "minStockQuantity": "20"
                                },
                                {
                                    "productID": "10",
                                    "minStockQuantity": "10"
                                }
                            ]
                        },
                        "text/html": [
                            "<table>",
                            "<tr><th>productID</th><th>minStockQuantity</th></tr>",
                            "<tr><td>1</td><td>10</td></tr>",
                            "<tr><td>2</td><td>15</td></tr>",
                            "<tr><td>3</td><td>20</td></tr>",
                            "<tr><td>4</td><td>30</td></tr>",
                            "<tr><td>5</td><td>5</td></tr>",
                            "<tr><td>6</td><td>25</td></tr>",
                            "<tr><td>7</td><td>10</td></tr>",
                            "<tr><td>8</td><td>15</td></tr>",
                            "<tr><td>9</td><td>20</td></tr>",
                            "<tr><td>10</td><td>10</td></tr>",
                            "</table>"
                        ]
                    }
                }
            ],
            "execution_count": 15
        },
        {
            "cell_type": "markdown",
            "source": [
                "**10\\. Calculate the Total Amount Spent by Each Customer.**"
            ],
            "metadata": {
                "language": "sql",
                "azdata_cell_guid": "33ac47ee-e0eb-4c1f-a944-414ed5f017b3"
            },
            "attachments": {}
        },
        {
            "cell_type": "code",
            "source": [
                "SELECT C.customerID, C.firstName, C.lastName, SUM(O.totalAmount) AS totalSpent\r\n",
                "FROM Customer C\r\n",
                "JOIN [Order] O ON C.customerID = O.customerID\r\n",
                "GROUP BY C.customerID, C.firstName, C.lastName;"
            ],
            "metadata": {
                "language": "sql",
                "azdata_cell_guid": "8ae3bdaa-e9af-4ca8-ba97-562bbf069894"
            },
            "outputs": [
                {
                    "output_type": "display_data",
                    "data": {
                        "text/html": "(10 rows affected)"
                    },
                    "metadata": {}
                },
                {
                    "output_type": "display_data",
                    "data": {
                        "text/html": "Total execution time: 00:00:00.006"
                    },
                    "metadata": {}
                },
                {
                    "output_type": "execute_result",
                    "metadata": {},
                    "execution_count": 18,
                    "data": {
                        "application/vnd.dataresource+json": {
                            "schema": {
                                "fields": [
                                    {
                                        "name": "customerID"
                                    },
                                    {
                                        "name": "firstName"
                                    },
                                    {
                                        "name": "lastName"
                                    },
                                    {
                                        "name": "totalSpent"
                                    }
                                ]
                            },
                            "data": [
                                {
                                    "customerID": "1",
                                    "firstName": "John",
                                    "lastName": "Doe",
                                    "totalSpent": "1200.00"
                                },
                                {
                                    "customerID": "2",
                                    "firstName": "Jane",
                                    "lastName": "Smith",
                                    "totalSpent": "900.00"
                                },
                                {
                                    "customerID": "3",
                                    "firstName": "Robert",
                                    "lastName": "Johnson",
                                    "totalSpent": "300.00"
                                },
                                {
                                    "customerID": "4",
                                    "firstName": "Sarah",
                                    "lastName": "Brown",
                                    "totalSpent": "150.00"
                                },
                                {
                                    "customerID": "5",
                                    "firstName": "David",
                                    "lastName": "Lee",
                                    "totalSpent": "1800.00"
                                },
                                {
                                    "customerID": "6",
                                    "firstName": "Laura",
                                    "lastName": "Hall",
                                    "totalSpent": "400.00"
                                },
                                {
                                    "customerID": "7",
                                    "firstName": "Michael",
                                    "lastName": "Davis",
                                    "totalSpent": "700.00"
                                },
                                {
                                    "customerID": "8",
                                    "firstName": "Emma",
                                    "lastName": "Wilson",
                                    "totalSpent": "160.00"
                                },
                                {
                                    "customerID": "9",
                                    "firstName": "William",
                                    "lastName": "Taylor",
                                    "totalSpent": "140.00"
                                },
                                {
                                    "customerID": "10",
                                    "firstName": "Olivia",
                                    "lastName": "Adams",
                                    "totalSpent": "1400.00"
                                }
                            ]
                        },
                        "text/html": [
                            "<table>",
                            "<tr><th>customerID</th><th>firstName</th><th>lastName</th><th>totalSpent</th></tr>",
                            "<tr><td>1</td><td>John</td><td>Doe</td><td>1200.00</td></tr>",
                            "<tr><td>2</td><td>Jane</td><td>Smith</td><td>900.00</td></tr>",
                            "<tr><td>3</td><td>Robert</td><td>Johnson</td><td>300.00</td></tr>",
                            "<tr><td>4</td><td>Sarah</td><td>Brown</td><td>150.00</td></tr>",
                            "<tr><td>5</td><td>David</td><td>Lee</td><td>1800.00</td></tr>",
                            "<tr><td>6</td><td>Laura</td><td>Hall</td><td>400.00</td></tr>",
                            "<tr><td>7</td><td>Michael</td><td>Davis</td><td>700.00</td></tr>",
                            "<tr><td>8</td><td>Emma</td><td>Wilson</td><td>160.00</td></tr>",
                            "<tr><td>9</td><td>William</td><td>Taylor</td><td>140.00</td></tr>",
                            "<tr><td>10</td><td>Olivia</td><td>Adams</td><td>1400.00</td></tr>",
                            "</table>"
                        ]
                    }
                }
            ],
            "execution_count": 18
        },
        {
            "cell_type": "markdown",
            "source": [
                "**11\\. Find the Average Order Amount for Each Customer.**"
            ],
            "metadata": {
                "language": "sql",
                "azdata_cell_guid": "4d258a1a-ff66-46f1-b03b-3e824e1f603c"
            },
            "attachments": {}
        },
        {
            "cell_type": "code",
            "source": [
                "SELECT C.customerID, C.firstName, C.lastName, AVG(O.totalAmount) AS totalSpent\r\n",
                "FROM Customer C\r\n",
                "JOIN [Order] O ON C.customerID = O.customerID\r\n",
                "GROUP BY C.customerID, C.firstName, C.lastName;"
            ],
            "metadata": {
                "language": "sql",
                "azdata_cell_guid": "f7835a8d-6766-4048-b604-a3a1816c8c5d"
            },
            "outputs": [
                {
                    "output_type": "display_data",
                    "data": {
                        "text/html": "(10 rows affected)"
                    },
                    "metadata": {}
                },
                {
                    "output_type": "display_data",
                    "data": {
                        "text/html": "Total execution time: 00:00:00.034"
                    },
                    "metadata": {}
                },
                {
                    "output_type": "execute_result",
                    "metadata": {},
                    "execution_count": 19,
                    "data": {
                        "application/vnd.dataresource+json": {
                            "schema": {
                                "fields": [
                                    {
                                        "name": "customerID"
                                    },
                                    {
                                        "name": "firstName"
                                    },
                                    {
                                        "name": "lastName"
                                    },
                                    {
                                        "name": "totalSpent"
                                    }
                                ]
                            },
                            "data": [
                                {
                                    "customerID": "1",
                                    "firstName": "John",
                                    "lastName": "Doe",
                                    "totalSpent": "1200.000000"
                                },
                                {
                                    "customerID": "2",
                                    "firstName": "Jane",
                                    "lastName": "Smith",
                                    "totalSpent": "900.000000"
                                },
                                {
                                    "customerID": "3",
                                    "firstName": "Robert",
                                    "lastName": "Johnson",
                                    "totalSpent": "300.000000"
                                },
                                {
                                    "customerID": "4",
                                    "firstName": "Sarah",
                                    "lastName": "Brown",
                                    "totalSpent": "150.000000"
                                },
                                {
                                    "customerID": "5",
                                    "firstName": "David",
                                    "lastName": "Lee",
                                    "totalSpent": "1800.000000"
                                },
                                {
                                    "customerID": "6",
                                    "firstName": "Laura",
                                    "lastName": "Hall",
                                    "totalSpent": "400.000000"
                                },
                                {
                                    "customerID": "7",
                                    "firstName": "Michael",
                                    "lastName": "Davis",
                                    "totalSpent": "700.000000"
                                },
                                {
                                    "customerID": "8",
                                    "firstName": "Emma",
                                    "lastName": "Wilson",
                                    "totalSpent": "160.000000"
                                },
                                {
                                    "customerID": "9",
                                    "firstName": "William",
                                    "lastName": "Taylor",
                                    "totalSpent": "140.000000"
                                },
                                {
                                    "customerID": "10",
                                    "firstName": "Olivia",
                                    "lastName": "Adams",
                                    "totalSpent": "1400.000000"
                                }
                            ]
                        },
                        "text/html": [
                            "<table>",
                            "<tr><th>customerID</th><th>firstName</th><th>lastName</th><th>totalSpent</th></tr>",
                            "<tr><td>1</td><td>John</td><td>Doe</td><td>1200.000000</td></tr>",
                            "<tr><td>2</td><td>Jane</td><td>Smith</td><td>900.000000</td></tr>",
                            "<tr><td>3</td><td>Robert</td><td>Johnson</td><td>300.000000</td></tr>",
                            "<tr><td>4</td><td>Sarah</td><td>Brown</td><td>150.000000</td></tr>",
                            "<tr><td>5</td><td>David</td><td>Lee</td><td>1800.000000</td></tr>",
                            "<tr><td>6</td><td>Laura</td><td>Hall</td><td>400.000000</td></tr>",
                            "<tr><td>7</td><td>Michael</td><td>Davis</td><td>700.000000</td></tr>",
                            "<tr><td>8</td><td>Emma</td><td>Wilson</td><td>160.000000</td></tr>",
                            "<tr><td>9</td><td>William</td><td>Taylor</td><td>140.000000</td></tr>",
                            "<tr><td>10</td><td>Olivia</td><td>Adams</td><td>1400.000000</td></tr>",
                            "</table>"
                        ]
                    }
                }
            ],
            "execution_count": 19
        },
        {
            "cell_type": "markdown",
            "source": [
                "**12\\. Count the Number of Orders Placed by Each Customer.**"
            ],
            "metadata": {
                "language": "sql",
                "azdata_cell_guid": "a486daea-fabe-45ab-98d7-dae3012650d8"
            },
            "attachments": {}
        },
        {
            "cell_type": "code",
            "source": [
                "SELECT C.customerID, C.firstName, C.lastName, COUNT(O.totalAmount) AS ordrrCount\r\n",
                "FROM Customer C\r\n",
                "JOIN [Order] O ON C.customerID = O.customerID\r\n",
                "GROUP BY C.customerID, C.firstName, C.lastName;"
            ],
            "metadata": {
                "language": "sql",
                "azdata_cell_guid": "78c84640-dc50-4007-8f2b-0be3f1bb10b2"
            },
            "outputs": [
                {
                    "output_type": "display_data",
                    "data": {
                        "text/html": "(10 rows affected)"
                    },
                    "metadata": {}
                },
                {
                    "output_type": "display_data",
                    "data": {
                        "text/html": "Total execution time: 00:00:00.007"
                    },
                    "metadata": {}
                },
                {
                    "output_type": "execute_result",
                    "metadata": {},
                    "execution_count": 23,
                    "data": {
                        "application/vnd.dataresource+json": {
                            "schema": {
                                "fields": [
                                    {
                                        "name": "customerID"
                                    },
                                    {
                                        "name": "firstName"
                                    },
                                    {
                                        "name": "lastName"
                                    },
                                    {
                                        "name": "ordrrCount"
                                    }
                                ]
                            },
                            "data": [
                                {
                                    "customerID": "1",
                                    "firstName": "John",
                                    "lastName": "Doe",
                                    "ordrrCount": "1"
                                },
                                {
                                    "customerID": "2",
                                    "firstName": "Jane",
                                    "lastName": "Smith",
                                    "ordrrCount": "1"
                                },
                                {
                                    "customerID": "3",
                                    "firstName": "Robert",
                                    "lastName": "Johnson",
                                    "ordrrCount": "1"
                                },
                                {
                                    "customerID": "4",
                                    "firstName": "Sarah",
                                    "lastName": "Brown",
                                    "ordrrCount": "1"
                                },
                                {
                                    "customerID": "5",
                                    "firstName": "David",
                                    "lastName": "Lee",
                                    "ordrrCount": "1"
                                },
                                {
                                    "customerID": "6",
                                    "firstName": "Laura",
                                    "lastName": "Hall",
                                    "ordrrCount": "1"
                                },
                                {
                                    "customerID": "7",
                                    "firstName": "Michael",
                                    "lastName": "Davis",
                                    "ordrrCount": "1"
                                },
                                {
                                    "customerID": "8",
                                    "firstName": "Emma",
                                    "lastName": "Wilson",
                                    "ordrrCount": "1"
                                },
                                {
                                    "customerID": "9",
                                    "firstName": "William",
                                    "lastName": "Taylor",
                                    "ordrrCount": "1"
                                },
                                {
                                    "customerID": "10",
                                    "firstName": "Olivia",
                                    "lastName": "Adams",
                                    "ordrrCount": "1"
                                }
                            ]
                        },
                        "text/html": [
                            "<table>",
                            "<tr><th>customerID</th><th>firstName</th><th>lastName</th><th>ordrrCount</th></tr>",
                            "<tr><td>1</td><td>John</td><td>Doe</td><td>1</td></tr>",
                            "<tr><td>2</td><td>Jane</td><td>Smith</td><td>1</td></tr>",
                            "<tr><td>3</td><td>Robert</td><td>Johnson</td><td>1</td></tr>",
                            "<tr><td>4</td><td>Sarah</td><td>Brown</td><td>1</td></tr>",
                            "<tr><td>5</td><td>David</td><td>Lee</td><td>1</td></tr>",
                            "<tr><td>6</td><td>Laura</td><td>Hall</td><td>1</td></tr>",
                            "<tr><td>7</td><td>Michael</td><td>Davis</td><td>1</td></tr>",
                            "<tr><td>8</td><td>Emma</td><td>Wilson</td><td>1</td></tr>",
                            "<tr><td>9</td><td>William</td><td>Taylor</td><td>1</td></tr>",
                            "<tr><td>10</td><td>Olivia</td><td>Adams</td><td>1</td></tr>",
                            "</table>"
                        ]
                    }
                }
            ],
            "execution_count": 23
        },
        {
            "cell_type": "markdown",
            "source": [
                "**13\\. Find the Maximum Order Amount for Each Customer**"
            ],
            "metadata": {
                "language": "sql",
                "azdata_cell_guid": "503b033d-8ca3-47a6-9882-19a0914f8a2d"
            },
            "attachments": {}
        },
        {
            "cell_type": "code",
            "source": [
                "SELECT C.customerID, C.firstName, C.lastName, MAX(O.totalAmount) AS totalSpent\r\n",
                "FROM Customer C\r\n",
                "JOIN [Order] O ON C.customerID = O.customerID\r\n",
                "GROUP BY C.customerID, C.firstName, C.lastName;"
            ],
            "metadata": {
                "language": "sql",
                "azdata_cell_guid": "c3afd0d1-9c37-46c7-81d7-558687c48874"
            },
            "outputs": [
                {
                    "output_type": "display_data",
                    "data": {
                        "text/html": "(10 rows affected)"
                    },
                    "metadata": {}
                },
                {
                    "output_type": "display_data",
                    "data": {
                        "text/html": "Total execution time: 00:00:00.011"
                    },
                    "metadata": {}
                },
                {
                    "output_type": "execute_result",
                    "metadata": {},
                    "execution_count": 21,
                    "data": {
                        "application/vnd.dataresource+json": {
                            "schema": {
                                "fields": [
                                    {
                                        "name": "customerID"
                                    },
                                    {
                                        "name": "firstName"
                                    },
                                    {
                                        "name": "lastName"
                                    },
                                    {
                                        "name": "totalSpent"
                                    }
                                ]
                            },
                            "data": [
                                {
                                    "customerID": "1",
                                    "firstName": "John",
                                    "lastName": "Doe",
                                    "totalSpent": "1200.00"
                                },
                                {
                                    "customerID": "2",
                                    "firstName": "Jane",
                                    "lastName": "Smith",
                                    "totalSpent": "900.00"
                                },
                                {
                                    "customerID": "3",
                                    "firstName": "Robert",
                                    "lastName": "Johnson",
                                    "totalSpent": "300.00"
                                },
                                {
                                    "customerID": "4",
                                    "firstName": "Sarah",
                                    "lastName": "Brown",
                                    "totalSpent": "150.00"
                                },
                                {
                                    "customerID": "5",
                                    "firstName": "David",
                                    "lastName": "Lee",
                                    "totalSpent": "1800.00"
                                },
                                {
                                    "customerID": "6",
                                    "firstName": "Laura",
                                    "lastName": "Hall",
                                    "totalSpent": "400.00"
                                },
                                {
                                    "customerID": "7",
                                    "firstName": "Michael",
                                    "lastName": "Davis",
                                    "totalSpent": "700.00"
                                },
                                {
                                    "customerID": "8",
                                    "firstName": "Emma",
                                    "lastName": "Wilson",
                                    "totalSpent": "160.00"
                                },
                                {
                                    "customerID": "9",
                                    "firstName": "William",
                                    "lastName": "Taylor",
                                    "totalSpent": "140.00"
                                },
                                {
                                    "customerID": "10",
                                    "firstName": "Olivia",
                                    "lastName": "Adams",
                                    "totalSpent": "1400.00"
                                }
                            ]
                        },
                        "text/html": [
                            "<table>",
                            "<tr><th>customerID</th><th>firstName</th><th>lastName</th><th>totalSpent</th></tr>",
                            "<tr><td>1</td><td>John</td><td>Doe</td><td>1200.00</td></tr>",
                            "<tr><td>2</td><td>Jane</td><td>Smith</td><td>900.00</td></tr>",
                            "<tr><td>3</td><td>Robert</td><td>Johnson</td><td>300.00</td></tr>",
                            "<tr><td>4</td><td>Sarah</td><td>Brown</td><td>150.00</td></tr>",
                            "<tr><td>5</td><td>David</td><td>Lee</td><td>1800.00</td></tr>",
                            "<tr><td>6</td><td>Laura</td><td>Hall</td><td>400.00</td></tr>",
                            "<tr><td>7</td><td>Michael</td><td>Davis</td><td>700.00</td></tr>",
                            "<tr><td>8</td><td>Emma</td><td>Wilson</td><td>160.00</td></tr>",
                            "<tr><td>9</td><td>William</td><td>Taylor</td><td>140.00</td></tr>",
                            "<tr><td>10</td><td>Olivia</td><td>Adams</td><td>1400.00</td></tr>",
                            "</table>"
                        ]
                    }
                }
            ],
            "execution_count": 21
        },
        {
            "cell_type": "markdown",
            "source": [
                "**14\\. Get Customers Who Placed Orders Totaling Over $1000.**"
            ],
            "metadata": {
                "language": "sql",
                "azdata_cell_guid": "06b7a48d-66cc-4bb3-98b9-b41477191eac"
            },
            "attachments": {}
        },
        {
            "cell_type": "code",
            "source": [
                "SELECT c.customerID, c.firstName, c.lastName, SUM(o.totalAmount) AS Over1000 \r\n",
                "FROM Customer c \r\n",
                "JOIN [Order] o ON c.customerID=o.customerID\r\n",
                "GROUP BY c.customerID, c.firstName, c.lastName \r\n",
                "HAVING SUM(o.totalAmount)>1000;"
            ],
            "metadata": {
                "language": "sql",
                "azdata_cell_guid": "14d825f9-8c8e-4a98-950a-8d45790b74f8"
            },
            "outputs": [
                {
                    "output_type": "display_data",
                    "data": {
                        "text/html": "(3 rows affected)"
                    },
                    "metadata": {}
                },
                {
                    "output_type": "display_data",
                    "data": {
                        "text/html": "Total execution time: 00:00:00.008"
                    },
                    "metadata": {}
                },
                {
                    "output_type": "execute_result",
                    "metadata": {},
                    "execution_count": 26,
                    "data": {
                        "application/vnd.dataresource+json": {
                            "schema": {
                                "fields": [
                                    {
                                        "name": "customerID"
                                    },
                                    {
                                        "name": "firstName"
                                    },
                                    {
                                        "name": "lastName"
                                    },
                                    {
                                        "name": "Over1000"
                                    }
                                ]
                            },
                            "data": [
                                {
                                    "customerID": "1",
                                    "firstName": "John",
                                    "lastName": "Doe",
                                    "Over1000": "1200.00"
                                },
                                {
                                    "customerID": "5",
                                    "firstName": "David",
                                    "lastName": "Lee",
                                    "Over1000": "1800.00"
                                },
                                {
                                    "customerID": "10",
                                    "firstName": "Olivia",
                                    "lastName": "Adams",
                                    "Over1000": "1400.00"
                                }
                            ]
                        },
                        "text/html": [
                            "<table>",
                            "<tr><th>customerID</th><th>firstName</th><th>lastName</th><th>Over1000</th></tr>",
                            "<tr><td>1</td><td>John</td><td>Doe</td><td>1200.00</td></tr>",
                            "<tr><td>5</td><td>David</td><td>Lee</td><td>1800.00</td></tr>",
                            "<tr><td>10</td><td>Olivia</td><td>Adams</td><td>1400.00</td></tr>",
                            "</table>"
                        ]
                    }
                }
            ],
            "execution_count": 26
        },
        {
            "cell_type": "markdown",
            "source": [
                "**15\\. Subquery to Find Products Not in the Cart.**"
            ],
            "metadata": {
                "language": "sql",
                "azdata_cell_guid": "d2073ebd-6c52-4d18-ad30-d23f7f2460bc"
            },
            "attachments": {}
        },
        {
            "cell_type": "code",
            "source": [
                "SELECT *\r\n",
                "FROM Product\r\n",
                "WHERE productID NOT IN (SELECT productID FROM Cart);"
            ],
            "metadata": {
                "language": "sql",
                "azdata_cell_guid": "d96063dc-83a4-4766-ae42-9dcf7351a6d2"
            },
            "outputs": [
                {
                    "output_type": "display_data",
                    "data": {
                        "text/html": "(2 rows affected)"
                    },
                    "metadata": {}
                },
                {
                    "output_type": "display_data",
                    "data": {
                        "text/html": "Total execution time: 00:00:00.017"
                    },
                    "metadata": {}
                },
                {
                    "output_type": "execute_result",
                    "metadata": {},
                    "execution_count": 27,
                    "data": {
                        "application/vnd.dataresource+json": {
                            "schema": {
                                "fields": [
                                    {
                                        "name": "productID"
                                    },
                                    {
                                        "name": "name"
                                    },
                                    {
                                        "name": "Description"
                                    },
                                    {
                                        "name": "price"
                                    },
                                    {
                                        "name": "stockQuantity"
                                    }
                                ]
                            },
                            "data": [
                                {
                                    "productID": "3",
                                    "name": "Tablet",
                                    "Description": "Portable tablet",
                                    "price": "300.00",
                                    "stockQuantity": "20"
                                },
                                {
                                    "productID": "8",
                                    "name": "Microwave Oven",
                                    "Description": "Countertop microwave",
                                    "price": "80.00",
                                    "stockQuantity": "15"
                                }
                            ]
                        },
                        "text/html": [
                            "<table>",
                            "<tr><th>productID</th><th>name</th><th>Description</th><th>price</th><th>stockQuantity</th></tr>",
                            "<tr><td>3</td><td>Tablet</td><td>Portable tablet</td><td>300.00</td><td>20</td></tr>",
                            "<tr><td>8</td><td>Microwave Oven</td><td>Countertop microwave</td><td>80.00</td><td>15</td></tr>",
                            "</table>"
                        ]
                    }
                }
            ],
            "execution_count": 27
        },
        {
            "cell_type": "markdown",
            "source": [
                "**16\\. Subquery to Find Customers Who Haven't Placed Orders.**"
            ],
            "metadata": {
                "language": "sql",
                "azdata_cell_guid": "2ade3ddc-4aa6-4e3d-a338-67d05bde332b"
            },
            "attachments": {}
        },
        {
            "cell_type": "code",
            "source": [
                "SELECT C.*\r\n",
                "FROM Customer C\r\n",
                "LEFT JOIN [Order] O ON C.customerID = O.customerID\r\n",
                "WHERE O.customerID IS NULL;"
            ],
            "metadata": {
                "language": "sql",
                "azdata_cell_guid": "7ddff246-ea33-448a-9ac3-89edacc9b503"
            },
            "outputs": [
                {
                    "output_type": "display_data",
                    "data": {
                        "text/html": "(0 rows affected)"
                    },
                    "metadata": {}
                },
                {
                    "output_type": "display_data",
                    "data": {
                        "text/html": "Total execution time: 00:00:00.005"
                    },
                    "metadata": {}
                },
                {
                    "output_type": "execute_result",
                    "metadata": {},
                    "execution_count": 34,
                    "data": {
                        "application/vnd.dataresource+json": {
                            "schema": {
                                "fields": [
                                    {
                                        "name": "customerID"
                                    },
                                    {
                                        "name": "firstName"
                                    },
                                    {
                                        "name": "lastName"
                                    },
                                    {
                                        "name": "Email"
                                    },
                                    {
                                        "name": "address"
                                    }
                                ]
                            },
                            "data": []
                        },
                        "text/html": [
                            "<table>",
                            "<tr><th>customerID</th><th>firstName</th><th>lastName</th><th>Email</th><th>address</th></tr>",
                            "</table>"
                        ]
                    }
                }
            ],
            "execution_count": 34
        },
        {
            "cell_type": "markdown",
            "source": [
                "**17\\. Subquery to Calculate the Percentage of Total Revenue for a Product**"
            ],
            "metadata": {
                "language": "sql",
                "azdata_cell_guid": "34c43ff7-bcc3-4599-9301-34610840d9d2"
            },
            "attachments": {}
        },
        {
            "cell_type": "code",
            "source": [
                "SELECT p.*, (SUM(o.itemAmount)/(SELECT SUM(itemAmount) FROM OrderItem)) * 100 AS totalRevenue\r\n",
                "FROM Product p \r\n",
                "JOIN OrderItem o ON p.productID=o.productID\r\n",
                "GROUP BY p.productID, p.name, p.Description, p.price,p.stockQuantity ;"
            ],
            "metadata": {
                "language": "sql",
                "azdata_cell_guid": "d538e6b0-39f5-42e6-9f95-22c6f48f3fea"
            },
            "outputs": [
                {
                    "output_type": "display_data",
                    "data": {
                        "text/html": "(8 rows affected)"
                    },
                    "metadata": {}
                },
                {
                    "output_type": "display_data",
                    "data": {
                        "text/html": "Total execution time: 00:00:00.020"
                    },
                    "metadata": {}
                },
                {
                    "output_type": "execute_result",
                    "metadata": {},
                    "execution_count": 50,
                    "data": {
                        "application/vnd.dataresource+json": {
                            "schema": {
                                "fields": [
                                    {
                                        "name": "productID"
                                    },
                                    {
                                        "name": "name"
                                    },
                                    {
                                        "name": "Description"
                                    },
                                    {
                                        "name": "price"
                                    },
                                    {
                                        "name": "stockQuantity"
                                    },
                                    {
                                        "name": "totalRevenue"
                                    }
                                ]
                            },
                            "data": [
                                {
                                    "productID": "1",
                                    "name": "Laptop",
                                    "Description": "High-performance laptop",
                                    "price": "800.00",
                                    "stockQuantity": "10",
                                    "totalRevenue": "27.906900"
                                },
                                {
                                    "productID": "2",
                                    "name": "Smartphone",
                                    "Description": "Latest smartphone",
                                    "price": "600.00",
                                    "stockQuantity": "15",
                                    "totalRevenue": "34.883700"
                                },
                                {
                                    "productID": "3",
                                    "name": "Tablet",
                                    "Description": "Portable tablet",
                                    "price": "300.00",
                                    "stockQuantity": "20",
                                    "totalRevenue": "3.488300"
                                },
                                {
                                    "productID": "4",
                                    "name": "Headphones",
                                    "Description": "Noise-canceling",
                                    "price": "150.00",
                                    "stockQuantity": "30",
                                    "totalRevenue": "6.976700"
                                },
                                {
                                    "productID": "5",
                                    "name": "TV",
                                    "Description": "4K Smart TV",
                                    "price": "900.00",
                                    "stockQuantity": "5",
                                    "totalRevenue": "20.930200"
                                },
                                {
                                    "productID": "6",
                                    "name": "Coffee Maker",
                                    "Description": "Automatic coffee maker",
                                    "price": "50.00",
                                    "stockQuantity": "25",
                                    "totalRevenue": "0.581300"
                                },
                                {
                                    "productID": "9",
                                    "name": "Blender",
                                    "Description": "High-speed blender",
                                    "price": "70.00",
                                    "stockQuantity": "20",
                                    "totalRevenue": "2.441800"
                                },
                                {
                                    "productID": "10",
                                    "name": "Vacuum Cleaner",
                                    "Description": "Bagless vacuum cleaner",
                                    "price": "120.00",
                                    "stockQuantity": "10",
                                    "totalRevenue": "2.790600"
                                }
                            ]
                        },
                        "text/html": [
                            "<table>",
                            "<tr><th>productID</th><th>name</th><th>Description</th><th>price</th><th>stockQuantity</th><th>totalRevenue</th></tr>",
                            "<tr><td>1</td><td>Laptop</td><td>High-performance laptop</td><td>800.00</td><td>10</td><td>27.906900</td></tr>",
                            "<tr><td>2</td><td>Smartphone</td><td>Latest smartphone</td><td>600.00</td><td>15</td><td>34.883700</td></tr>",
                            "<tr><td>3</td><td>Tablet</td><td>Portable tablet</td><td>300.00</td><td>20</td><td>3.488300</td></tr>",
                            "<tr><td>4</td><td>Headphones</td><td>Noise-canceling</td><td>150.00</td><td>30</td><td>6.976700</td></tr>",
                            "<tr><td>5</td><td>TV</td><td>4K Smart TV</td><td>900.00</td><td>5</td><td>20.930200</td></tr>",
                            "<tr><td>6</td><td>Coffee Maker</td><td>Automatic coffee maker</td><td>50.00</td><td>25</td><td>0.581300</td></tr>",
                            "<tr><td>9</td><td>Blender</td><td>High-speed blender</td><td>70.00</td><td>20</td><td>2.441800</td></tr>",
                            "<tr><td>10</td><td>Vacuum Cleaner</td><td>Bagless vacuum cleaner</td><td>120.00</td><td>10</td><td>2.790600</td></tr>",
                            "</table>"
                        ]
                    }
                }
            ],
            "execution_count": 50
        },
        {
            "cell_type": "markdown",
            "source": [
                "**18\\. Subquery to Find Products with Low Stock.**"
            ],
            "metadata": {
                "language": "sql",
                "azdata_cell_guid": "5ae8d45e-9fc4-4714-82fe-43c3020fedf1"
            },
            "attachments": {}
        },
        {
            "cell_type": "code",
            "source": [
                "SELECT *\r\n",
                "FROM Product\r\n",
                "WHERE stockQuantity < (SELECT AVG(stockQuantity) FROM Product);"
            ],
            "metadata": {
                "language": "sql",
                "azdata_cell_guid": "db1aa79c-aee5-432d-9376-87aa09ea81c0"
            },
            "outputs": [
                {
                    "output_type": "display_data",
                    "data": {
                        "text/html": "(6 rows affected)"
                    },
                    "metadata": {}
                },
                {
                    "output_type": "display_data",
                    "data": {
                        "text/html": "Total execution time: 00:00:00.015"
                    },
                    "metadata": {}
                },
                {
                    "output_type": "execute_result",
                    "metadata": {},
                    "execution_count": 51,
                    "data": {
                        "application/vnd.dataresource+json": {
                            "schema": {
                                "fields": [
                                    {
                                        "name": "productID"
                                    },
                                    {
                                        "name": "name"
                                    },
                                    {
                                        "name": "Description"
                                    },
                                    {
                                        "name": "price"
                                    },
                                    {
                                        "name": "stockQuantity"
                                    }
                                ]
                            },
                            "data": [
                                {
                                    "productID": "1",
                                    "name": "Laptop",
                                    "Description": "High-performance laptop",
                                    "price": "800.00",
                                    "stockQuantity": "10"
                                },
                                {
                                    "productID": "2",
                                    "name": "Smartphone",
                                    "Description": "Latest smartphone",
                                    "price": "600.00",
                                    "stockQuantity": "15"
                                },
                                {
                                    "productID": "5",
                                    "name": "TV",
                                    "Description": "4K Smart TV",
                                    "price": "900.00",
                                    "stockQuantity": "5"
                                },
                                {
                                    "productID": "7",
                                    "name": "Refrigerator",
                                    "Description": "Energy-efficient",
                                    "price": "800.00",
                                    "stockQuantity": "10"
                                },
                                {
                                    "productID": "8",
                                    "name": "Microwave Oven",
                                    "Description": "Countertop microwave",
                                    "price": "80.00",
                                    "stockQuantity": "15"
                                },
                                {
                                    "productID": "10",
                                    "name": "Vacuum Cleaner",
                                    "Description": "Bagless vacuum cleaner",
                                    "price": "120.00",
                                    "stockQuantity": "10"
                                }
                            ]
                        },
                        "text/html": [
                            "<table>",
                            "<tr><th>productID</th><th>name</th><th>Description</th><th>price</th><th>stockQuantity</th></tr>",
                            "<tr><td>1</td><td>Laptop</td><td>High-performance laptop</td><td>800.00</td><td>10</td></tr>",
                            "<tr><td>2</td><td>Smartphone</td><td>Latest smartphone</td><td>600.00</td><td>15</td></tr>",
                            "<tr><td>5</td><td>TV</td><td>4K Smart TV</td><td>900.00</td><td>5</td></tr>",
                            "<tr><td>7</td><td>Refrigerator</td><td>Energy-efficient</td><td>800.00</td><td>10</td></tr>",
                            "<tr><td>8</td><td>Microwave Oven</td><td>Countertop microwave</td><td>80.00</td><td>15</td></tr>",
                            "<tr><td>10</td><td>Vacuum Cleaner</td><td>Bagless vacuum cleaner</td><td>120.00</td><td>10</td></tr>",
                            "</table>"
                        ]
                    }
                }
            ],
            "execution_count": 51
        },
        {
            "cell_type": "markdown",
            "source": [
                "**19\\. Subquery to Find Customers Who Placed High-Value Orders.**"
            ],
            "metadata": {
                "language": "sql",
                "azdata_cell_guid": "065c6db6-96e8-4ddb-b454-894535bafe50"
            },
            "attachments": {}
        },
        {
            "cell_type": "code",
            "source": [
                "SELECT c.*\r\n",
                "FROM Customer c \r\n",
                "JOIN [Order] o ON o.customerID=c.customerID\r\n",
                "GROUP BY c.customerID, c.firstName, c.lastName, c.Email, c.address\r\n",
                "HAVING SUM(o.totalAmount)> (SELECT AVG(totalAmount) FROM [Order]);"
            ],
            "metadata": {
                "language": "sql",
                "azdata_cell_guid": "9d13a7ea-d053-4179-9c7d-04658dd988fb"
            },
            "outputs": [
                {
                    "output_type": "display_data",
                    "data": {
                        "text/html": "(4 rows affected)"
                    },
                    "metadata": {}
                },
                {
                    "output_type": "display_data",
                    "data": {
                        "text/html": "Total execution time: 00:00:00.007"
                    },
                    "metadata": {}
                },
                {
                    "output_type": "execute_result",
                    "metadata": {},
                    "execution_count": 61,
                    "data": {
                        "application/vnd.dataresource+json": {
                            "schema": {
                                "fields": [
                                    {
                                        "name": "customerID"
                                    },
                                    {
                                        "name": "firstName"
                                    },
                                    {
                                        "name": "lastName"
                                    },
                                    {
                                        "name": "Email"
                                    },
                                    {
                                        "name": "address"
                                    }
                                ]
                            },
                            "data": [
                                {
                                    "customerID": "1",
                                    "firstName": "John",
                                    "lastName": "Doe",
                                    "Email": "johndoe@example.com",
                                    "address": "123 Main St, City"
                                },
                                {
                                    "customerID": "2",
                                    "firstName": "Jane",
                                    "lastName": "Smith",
                                    "Email": "janesmith@example.com",
                                    "address": "456 Elm St, Town"
                                },
                                {
                                    "customerID": "5",
                                    "firstName": "David",
                                    "lastName": "Lee",
                                    "Email": "david@example.com",
                                    "address": "234 Cedar St, District"
                                },
                                {
                                    "customerID": "10",
                                    "firstName": "Olivia",
                                    "lastName": "Adams",
                                    "Email": "olivia@example.com",
                                    "address": "765 Fir St, Territory"
                                }
                            ]
                        },
                        "text/html": [
                            "<table>",
                            "<tr><th>customerID</th><th>firstName</th><th>lastName</th><th>Email</th><th>address</th></tr>",
                            "<tr><td>1</td><td>John</td><td>Doe</td><td>johndoe@example.com</td><td>123 Main St, City</td></tr>",
                            "<tr><td>2</td><td>Jane</td><td>Smith</td><td>janesmith@example.com</td><td>456 Elm St, Town</td></tr>",
                            "<tr><td>5</td><td>David</td><td>Lee</td><td>david@example.com</td><td>234 Cedar St, District</td></tr>",
                            "<tr><td>10</td><td>Olivia</td><td>Adams</td><td>olivia@example.com</td><td>765 Fir St, Territory</td></tr>",
                            "</table>"
                        ]
                    }
                }
            ],
            "execution_count": 61
        }
    ]
}